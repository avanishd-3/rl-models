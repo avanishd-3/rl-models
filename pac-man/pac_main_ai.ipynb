{
  "cells": [
    {
      "cell_type": "markdown",
      "metadata": {
        "id": "Wpx0ZfkVA7_D"
      },
      "source": [
        "# Pac Man"
      ]
    },
    {
      "cell_type": "markdown",
      "metadata": {
        "id": "JvwtJYbZB-sx"
      },
      "source": [
        "Traning  double dueling deep convolutional Q-learning AI to solve [Pac Man](https://ale.farama.org/environments/pacman/) from [Gymnasium](https://gymnasium.farama.org/)"
      ]
    },
    {
      "cell_type": "markdown",
      "metadata": {
        "id": "Oit0CcXdBBdS"
      },
      "source": [
        "## Intalling packages and importing libraries"
      ]
    },
    {
      "cell_type": "markdown",
      "metadata": {
        "id": "8iuaM8U7CEPh"
      },
      "source": [
        "### Installing NumPy and PyTorch"
      ]
    },
    {
      "cell_type": "code",
      "execution_count": null,
      "metadata": {
        "id": "q5uuTgtqCIjA"
      },
      "outputs": [],
      "source": [
        "%pip install numpy\n",
        "%pip install torch\n",
        "%pip install torchvision"
      ]
    },
    {
      "cell_type": "markdown",
      "metadata": {
        "id": "K8bunpN1BGPW"
      },
      "source": [
        "### Installing Gymnasium"
      ]
    },
    {
      "cell_type": "code",
      "execution_count": null,
      "metadata": {
        "colab": {
          "base_uri": "https://localhost:8080/"
        },
        "id": "fIk8QauYBIFx",
        "outputId": "9a574820-b9aa-4137-e3ea-6cfa975999e5"
      },
      "outputs": [
        {
          "name": "stdout",
          "output_type": "stream",
          "text": [
            "Collecting gymnasium\n",
            "  Downloading gymnasium-1.0.0-py3-none-any.whl.metadata (9.5 kB)\n",
            "Requirement already satisfied: numpy>=1.21.0 in /usr/local/lib/python3.10/dist-packages (from gymnasium) (1.26.4)\n",
            "Requirement already satisfied: cloudpickle>=1.2.0 in /usr/local/lib/python3.10/dist-packages (from gymnasium) (3.1.0)\n",
            "Requirement already satisfied: typing-extensions>=4.3.0 in /usr/local/lib/python3.10/dist-packages (from gymnasium) (4.12.2)\n",
            "Collecting farama-notifications>=0.0.1 (from gymnasium)\n",
            "  Downloading Farama_Notifications-0.0.4-py3-none-any.whl.metadata (558 bytes)\n",
            "Downloading gymnasium-1.0.0-py3-none-any.whl (958 kB)\n",
            "\u001b[2K   \u001b[90m━━━━━━━━━━━━━━━━━━━━━━━━━━━━━━━━━━━━━━━━\u001b[0m \u001b[32m958.1/958.1 kB\u001b[0m \u001b[31m12.9 MB/s\u001b[0m eta \u001b[36m0:00:00\u001b[0m\n",
            "\u001b[?25hDownloading Farama_Notifications-0.0.4-py3-none-any.whl (2.5 kB)\n",
            "Installing collected packages: farama-notifications, gymnasium\n",
            "Successfully installed farama-notifications-0.0.4 gymnasium-1.0.0\n",
            "Collecting ale-py\n",
            "  Downloading ale_py-0.10.1-cp310-cp310-manylinux_2_17_x86_64.manylinux2014_x86_64.whl.metadata (7.6 kB)\n",
            "Requirement already satisfied: numpy>1.20 in /usr/local/lib/python3.10/dist-packages (from ale-py) (1.26.4)\n",
            "Requirement already satisfied: typing-extensions in /usr/local/lib/python3.10/dist-packages (from ale-py) (4.12.2)\n",
            "Downloading ale_py-0.10.1-cp310-cp310-manylinux_2_17_x86_64.manylinux2014_x86_64.whl (2.1 MB)\n",
            "\u001b[2K   \u001b[90m━━━━━━━━━━━━━━━━━━━━━━━━━━━━━━━━━━━━━━━━\u001b[0m \u001b[32m2.1/2.1 MB\u001b[0m \u001b[31m19.9 MB/s\u001b[0m eta \u001b[36m0:00:00\u001b[0m\n",
            "\u001b[?25hInstalling collected packages: ale-py\n",
            "Successfully installed ale-py-0.10.1\n",
            "Collecting swig\n",
            "  Downloading swig-4.3.0-py2.py3-none-manylinux_2_5_x86_64.manylinux1_x86_64.whl.metadata (3.5 kB)\n",
            "Downloading swig-4.3.0-py2.py3-none-manylinux_2_5_x86_64.manylinux1_x86_64.whl (1.9 MB)\n",
            "\u001b[2K   \u001b[90m━━━━━━━━━━━━━━━━━━━━━━━━━━━━━━━━━━━━━━━━\u001b[0m \u001b[32m1.9/1.9 MB\u001b[0m \u001b[31m18.9 MB/s\u001b[0m eta \u001b[36m0:00:00\u001b[0m\n",
            "\u001b[?25hInstalling collected packages: swig\n",
            "Successfully installed swig-4.3.0\n",
            "Requirement already satisfied: gymnasium[box2d] in /usr/local/lib/python3.10/dist-packages (1.0.0)\n",
            "Requirement already satisfied: numpy>=1.21.0 in /usr/local/lib/python3.10/dist-packages (from gymnasium[box2d]) (1.26.4)\n",
            "Requirement already satisfied: cloudpickle>=1.2.0 in /usr/local/lib/python3.10/dist-packages (from gymnasium[box2d]) (3.1.0)\n",
            "Requirement already satisfied: typing-extensions>=4.3.0 in /usr/local/lib/python3.10/dist-packages (from gymnasium[box2d]) (4.12.2)\n",
            "Requirement already satisfied: farama-notifications>=0.0.1 in /usr/local/lib/python3.10/dist-packages (from gymnasium[box2d]) (0.0.4)\n",
            "Collecting box2d-py==2.3.5 (from gymnasium[box2d])\n",
            "  Downloading box2d-py-2.3.5.tar.gz (374 kB)\n",
            "\u001b[2K     \u001b[90m━━━━━━━━━━━━━━━━━━━━━━━━━━━━━━━━━━━━━━━━\u001b[0m \u001b[32m374.4/374.4 kB\u001b[0m \u001b[31m6.5 MB/s\u001b[0m eta \u001b[36m0:00:00\u001b[0m\n",
            "\u001b[?25h  Preparing metadata (setup.py) ... \u001b[?25l\u001b[?25hdone\n",
            "Requirement already satisfied: pygame>=2.1.3 in /usr/local/lib/python3.10/dist-packages (from gymnasium[box2d]) (2.6.1)\n",
            "Requirement already satisfied: swig==4.* in /usr/local/lib/python3.10/dist-packages (from gymnasium[box2d]) (4.3.0)\n",
            "Building wheels for collected packages: box2d-py\n",
            "  Building wheel for box2d-py (setup.py) ... \u001b[?25l\u001b[?25hdone\n",
            "  Created wheel for box2d-py: filename=box2d_py-2.3.5-cp310-cp310-linux_x86_64.whl size=2376425 sha256=e07e73d7f46442120ce8a266eed39159f4254f9b75e26c3e264ab202a5f0062a\n",
            "  Stored in directory: /root/.cache/pip/wheels/db/8f/6a/eaaadf056fba10a98d986f6dce954e6201ba3126926fc5ad9e\n",
            "Successfully built box2d-py\n",
            "Installing collected packages: box2d-py\n",
            "Successfully installed box2d-py-2.3.5\n"
          ]
        }
      ],
      "source": [
        "%pip install gymnasium\n",
        "%pip install ale-py\n",
        "%pip install swig # Necessary to build the wheel for box2d-py\n",
        "%pip install gymnasium[box2d] # Contains lunar lander environment"
      ]
    },
    {
      "cell_type": "markdown",
      "metadata": {
        "id": "NvBDak4PBPVm"
      },
      "source": [
        "### Importing Libraries"
      ]
    },
    {
      "cell_type": "code",
      "execution_count": null,
      "metadata": {
        "id": "oL8gHM8LBS6p"
      },
      "outputs": [],
      "source": [
        "import os\n",
        "import random\n",
        "import numpy as np\n",
        "from collections import deque\n",
        "\n",
        "# Pytorch stuff\n",
        "\n",
        "import torch\n",
        "import torch.nn as nn # Neural network library\n",
        "import torch.optim as optim # Optimizer to train AI\n",
        "import torch.nn.functional as F # Activation function\n",
        "from torch.utils.data import DataLoader, TensorDataset\n"
      ]
    },
    {
      "cell_type": "markdown",
      "metadata": {
        "id": "G0zU9DmTB7Bw"
      },
      "source": [
        "## Building AI"
      ]
    },
    {
      "cell_type": "markdown",
      "metadata": {
        "id": "PvYHltR6EP9P"
      },
      "source": [
        "### Neural Net Architecture"
      ]
    },
    {
      "cell_type": "code",
      "execution_count": null,
      "metadata": {
        "id": "Om190UxbCVM2"
      },
      "outputs": [],
      "source": [
        "class DuelingDCQN(nn.Module):\n",
        "  \"\"\"\n",
        "    Dueling Deep Convolutional Q-Network\n",
        "\n",
        "    Dueling separates the value of the state from the value of the actions possible in that state\n",
        "  \"\"\"\n",
        "\n",
        "  def __init__(self, action_size) -> None:\n",
        "    super(DuelingDCQN, self).__init__()\n",
        "\n",
        "    self.feature = nn.Sequential(\n",
        "        nn.Conv2d(3, 32, kernel_size=8, stride=4),\n",
        "        nn.BatchNorm2d(32),\n",
        "        nn.Conv2d(32, 64, kernel_size=4, stride=2),\n",
        "        nn.BatchNorm2d(64),\n",
        "        nn.Conv2d(64, 64, kernel_size=3, stride=1),\n",
        "        nn.BatchNorm2d(64),\n",
        "        nn.Conv2d(64, 128, kernel_size=3, stride=1),\n",
        "        nn.BatchNorm2d(128),\n",
        "      )\n",
        "\n",
        "    # Value stream (outputs a single scalar)\n",
        "    self.value_stream = nn.Sequential(\n",
        "        nn.Linear(10 * 10 * 128, 512),\n",
        "        nn.ReLU(),\n",
        "        nn.Linear(512, 1)  # Single value\n",
        "    )\n",
        "\n",
        "    # Advantage stream (outputs advantage for each action)\n",
        "    self.advantage_stream = nn.Sequential(\n",
        "        nn.Linear(10 * 10 * 128, 512),\n",
        "        nn.ReLU(),\n",
        "        nn.Linear(512, action_size)\n",
        "    )\n",
        "\n",
        "  def forward(self, state): # PyTorch needs this to be called forward to work\n",
        "\n",
        "    features = self.feature(state).view(state.size(0), -1)  # Flatten\n",
        "    value = self.value_stream(features)\n",
        "    advantage = self.advantage_stream(features)\n",
        "    # Combine value and advantage streams\n",
        "    return value + (advantage - advantage.mean(dim=1, keepdim=True))"
      ]
    },
    {
      "cell_type": "markdown",
      "metadata": {
        "id": "SO-0WutWHxSt"
      },
      "source": [
        "## Training AI"
      ]
    },
    {
      "cell_type": "markdown",
      "metadata": {
        "id": "AVppFmoNIApl"
      },
      "source": [
        "### Set up Pac Man environment"
      ]
    },
    {
      "cell_type": "code",
      "execution_count": null,
      "metadata": {
        "id": "tLOSV7OKH4RH"
      },
      "outputs": [],
      "source": [
        "import gymnasium as gym\n",
        "import ale_py\n",
        "\n",
        "env = gym.make(\"MsPacmanDeterministic-v4\", full_action_space=False) # Deterministic and no full action space = less computationally expensive\n",
        "\n",
        "pac_man_state_shape = env.observation_space.shape\n",
        "pac_man_action_size = env.action_space.n\n",
        "\n",
        "# Check that environment is set up correctly\n",
        "assert(pac_man_state_shape == (210, 160, 3))\n",
        "assert(pac_man_action_size == 9)"
      ]
    },
    {
      "cell_type": "markdown",
      "metadata": {
        "id": "FQdlsp4DJ_8Y"
      },
      "source": [
        "### Initialize hyperparameters"
      ]
    },
    {
      "cell_type": "code",
      "execution_count": null,
      "metadata": {
        "id": "BlzrduKhJlr0"
      },
      "outputs": [],
      "source": [
        "learning_rate = 5e-4 # Good for deep Q learning\n",
        "mini_batch_size = 64 # Better for Pac-Man\n",
        "discount_factor = 0.99 # Optimal discount factor\n",
        "\n",
        "# Tau removed b/c soft update doesn't improve Pac-Man results"
      ]
    },
    {
      "cell_type": "markdown",
      "metadata": {
        "id": "-ayxD3EJLF8U"
      },
      "source": [
        "### Preprocessing frames"
      ]
    },
    {
      "cell_type": "code",
      "execution_count": null,
      "metadata": {
        "id": "D9q8yXHbLHe4"
      },
      "outputs": [],
      "source": [
        "# Convert images to PyTorch tensors\n",
        "\n",
        "from PIL import Image\n",
        "import torchvision.transforms as transforms\n",
        "\n",
        "def preprocess_frame(frame: np.ndarray):\n",
        "  \"\"\"\n",
        "  Preprocess frames so input images can be converted to PyTorch tensors\n",
        "  \"\"\"\n",
        "  frame = Image.fromarray(frame) # Convert input frame to PIL image\n",
        "\n",
        "  # Make sure image is a square\n",
        "  transform = transforms.Compose([transforms.Resize((128, 128)), transforms.ToTensor()])\n",
        "\n",
        "  # Function to convert PIL image to PyTorch tensor and also normalize frames\n",
        "  frame_tensor = transform(frame) # Convert frame image to tensor\n",
        "  return frame_tensor.unsqueeze(0) # Add batch dimension"
      ]
    },
    {
      "cell_type": "markdown",
      "metadata": {
        "id": "_c-mCCBKOCHu"
      },
      "source": [
        "### Double Deep Q Network"
      ]
    },
    {
      "cell_type": "code",
      "execution_count": null,
      "metadata": {
        "id": "qm9KQXdEOFMt"
      },
      "outputs": [],
      "source": [
        "class Agent():\n",
        "  \"\"\"\n",
        "  Use double deep convolutional Q-learning with gradient clipping to reduce overestimation bias\n",
        "  \"\"\"\n",
        "\n",
        "  def __init__(self, action_size) -> None:\n",
        "    self.device = torch.device(\"cuda\" if torch.cuda.is_available() else \"cpu\") # GPU acceleration if possible\n",
        "\n",
        "    self.action_size = action_size\n",
        "\n",
        "    # Q learning\n",
        "    self.q_network = DuelingDCQN(action_size).to(self.device) # Local Q network\n",
        "    self.target_network = DuelingDCQN(action_size).to(self.device) # Target Q network\n",
        "\n",
        "    self.optimizer = optim.Adam(self.q_network.parameters(), lr=learning_rate) # Optimizer for Q network\n",
        "\n",
        "    self.memory = deque(maxlen=10000) # Replay memory\n",
        "\n",
        "    self.time_step = 0 # Time step for updating target network\n",
        "\n",
        "  def step(self, state, action, reward, next_state, done):\n",
        "    state = preprocess_frame(state)\n",
        "    next_state = preprocess_frame(next_state)\n",
        "\n",
        "    self.memory.append((state, action, reward, next_state, done))\n",
        "\n",
        "    # Learning\n",
        "    if len(self.memory) > mini_batch_size:\n",
        "        experiences = random.sample(self.memory, k = mini_batch_size)\n",
        "        self.learn(experiences, discount_factor)\n",
        "\n",
        "\n",
        "  def act(self, state, epsilon=0):\n",
        "    \"\"\"\n",
        "    Select action based on given state in environment using epsilon-greedy action selection policy.\n",
        "\n",
        "    Epsilon-greedy is standard in Deep Q learning over softmax. It is also simpler and less computationally expensive.\n",
        "    \"\"\"\n",
        "\n",
        "    state = preprocess_frame(state).to(self.device)\n",
        "\n",
        "    self.q_network.eval()\n",
        "\n",
        "    with torch.no_grad(): # Disable gradient computation (make sure in inference mode)\n",
        "      action_values = self.q_network(state)\n",
        "    self.q_network.train()\n",
        "\n",
        "    # Use epsilon greedy action-selection policy\n",
        "\n",
        "    if random.random() > epsilon:\n",
        "      return np.argmax(action_values.cpu().data.numpy())\n",
        "    else:\n",
        "      return random.choice(np.arange(self.action_size))\n",
        "\n",
        "  def learn(self, experiences, gamma):\n",
        "    \"\"\"\n",
        "    Update Q-values based on sampled experiences\n",
        "    \"\"\"\n",
        "\n",
        "    states, actions, rewards, next_states, dones = zip(*experiences)\n",
        "\n",
        "    # Convert elements of experience to PyTorch tensors and move them to device\n",
        "\n",
        "    states = torch.from_numpy(np.vstack(states)).float().to(self.device).squeeze(1)\n",
        "    actions = torch.from_numpy(np.vstack(actions)).long().to(self.device)\n",
        "    rewards = torch.from_numpy(np.vstack(rewards)).float().to(self.device)\n",
        "    next_states = torch.from_numpy(np.vstack([next_states])).float().to(self.device).squeeze(1)\n",
        "\n",
        "    # Convert Boolean data to float tensor\n",
        "    dones = torch.from_numpy(np.vstack(dones)).float().to(self.device) # Last elements in experiences\n",
        "\n",
        "    # Get best actions from the local Q-network\n",
        "    # Detach = no tracking tensor gradient during backwards propagation\n",
        "    # Unsqueeze = add batch info at index 1\n",
        "    next_actions = self.q_network(next_states).detach().argmax(1).unsqueeze(1)\n",
        "\n",
        "    # Get corresponding Q-values from the target Q-network\n",
        "    next_q_targets = self.target_network(next_states).gather(1, next_actions)\n",
        "\n",
        "    # Compute target Q-values\n",
        "    target_q_values = rewards + (gamma * next_q_targets * (1 - dones))\n",
        "\n",
        "    # Compute current Q-values\n",
        "    predicted_q_values = self.q_network(states).gather(1, actions)\n",
        "\n",
        "    # Calculate loss\n",
        "    loss = F.mse_loss(predicted_q_values, target_q_values)\n",
        "\n",
        "    # Backpropagate loss and update weights\n",
        "\n",
        "    self.optimizer.zero_grad() # Init optimzer\n",
        "    loss.backward() # Back propagate\n",
        "    nn.utils.clip_grad_norm_(self.q_network.parameters(), 1.0)  # Gradient clipping\n",
        "    self.optimizer.step() # Update weights\n",
        "\n",
        "    # Soft update does not improve Pac-Man results"
      ]
    },
    {
      "cell_type": "markdown",
      "metadata": {
        "id": "FbYepYcmY7OF"
      },
      "source": [
        "### Train an Agent"
      ]
    },
    {
      "cell_type": "code",
      "execution_count": null,
      "metadata": {
        "id": "zZJ7qOczY9AH"
      },
      "outputs": [],
      "source": [
        "# Initialze an agent and frame stacking\n",
        "agent = Agent(action_size=pac_man_action_size)"
      ]
    },
    {
      "cell_type": "code",
      "execution_count": null,
      "metadata": {
        "id": "R8VL9xD6ZnPp"
      },
      "outputs": [],
      "source": [
        "# Initialize training hyperparameters\n",
        "\n",
        "num_episodes = 2000\n",
        "max_time_steps_per_episode = 10000 # Need many time steps for Pac-Man\n",
        "\n",
        "# Epsilon greedy hyperparameters\n",
        "epsilon_start = 1.0\n",
        "epsilon_decay = 0.995 # Decay epsilon slowly\n",
        "epsilon_min = 0.01\n",
        "\n",
        "epsilon = epsilon_start\n",
        "\n",
        "# Window of scores on 100 episodes\n",
        "window_of_scores = deque(maxlen=100)"
      ]
    },
    {
      "cell_type": "code",
      "execution_count": null,
      "metadata": {
        "colab": {
          "base_uri": "https://localhost:8080/"
        },
        "id": "Y9XBgcs13qkE",
        "outputId": "72a6b539-9587-45d4-f985-7230184c66b7"
      },
      "outputs": [
        {
          "name": "stdout",
          "output_type": "stream",
          "text": [
            "torch.Size([64, 9])\n"
          ]
        }
      ],
      "source": [
        "dummy_state = torch.zeros((64, 3, 128, 128))  # Batch size 64, 3 channels\n",
        "output = agent.q_network(dummy_state)\n",
        "print(output.shape)  # Check if the network processes the input correctly"
      ]
    },
    {
      "cell_type": "code",
      "execution_count": null,
      "metadata": {
        "colab": {
          "base_uri": "https://localhost:8080/",
          "height": 388
        },
        "id": "otF3obiYa-ha",
        "outputId": "6d546db1-2db7-4ed8-8f64-ebe46e51e7dd"
      },
      "outputs": [],
      "source": [
        "# Final training loop\n",
        "\n",
        "for episode in range(1, num_episodes+1):\n",
        "  # Reset environment to initial state\n",
        "  state, _ = env.reset()\n",
        "  score = 0\n",
        "\n",
        "  # Agent learning\n",
        "\n",
        "  for t in range(max_time_steps_per_episode):\n",
        "    action = agent.act(state=state, epsilon=epsilon)\n",
        "\n",
        "    next_state, reward, done, _, _ = env.step(action)\n",
        "\n",
        "    reward = (reward - np.mean(reward)) / (np.std(reward) + 1e-5) # Normalize reward to stabilize training\n",
        "\n",
        "\n",
        "    agent.step(state, action, reward, next_state, done)\n",
        "\n",
        "    state = next_state\n",
        "    score += reward\n",
        "\n",
        "    if done:\n",
        "      break\n",
        "\n",
        "  window_of_scores.append(score)\n",
        "  epsilon = max(epsilon_min, epsilon_decay * epsilon) # Decay epsilon\n",
        "\n",
        "  # Print stuff to get feedback that agent is working\n",
        "  print(f\"\\rEpisode: {episode}\\tScore: {score}\\tAverage Score: {np.mean(window_of_scores)}\", end=\"\") # \\r allows newly printed line to over-ride previous one\n",
        "\n",
        "  if episode % 100 == 0:\n",
        "    print(\"\")\n",
        "\n",
        "  if np.mean(window_of_scores) >= 500: # Score is score on Pac-Man\n",
        "    print(f\"\\nEnvironment solved in {episode} episodes!\\t Average Score: {np.mean(window_of_scores)}\")\n",
        "\n",
        "    torch.save(agent.q_network.state_dict(), \"pac_man_model.pth\") # Save parameters to PyTorch file\n",
        "\n",
        "    break # No more training needed\n"
      ]
    },
    {
      "cell_type": "markdown",
      "metadata": {
        "id": "arP7nNDooonT"
      },
      "source": [
        "## Visualization"
      ]
    },
    {
      "cell_type": "markdown",
      "metadata": {
        "id": "O2kgCLeIpZ3x"
      },
      "source": [
        "### Imports"
      ]
    },
    {
      "cell_type": "code",
      "execution_count": null,
      "metadata": {
        "id": "xicp0-kWpbQJ"
      },
      "outputs": [],
      "source": [
        "import glob\n",
        "import io\n",
        "import base64\n",
        "import imageio\n",
        "from IPython.display import HTML, display\n",
        "from gymnasium.wrappers import RecordVideo"
      ]
    },
    {
      "cell_type": "markdown",
      "metadata": {
        "id": "SM0mHRMLLepJ"
      },
      "source": [
        "### Video"
      ]
    },
    {
      "cell_type": "code",
      "execution_count": null,
      "metadata": {
        "id": "aRBuWsBio9kA"
      },
      "outputs": [],
      "source": [
        "\n",
        "def show_video_of_model(agent, env_name):\n",
        "    env = gym.make(env_name, render_mode='rgb_array')\n",
        "    state, _ = env.reset()\n",
        "    done = False\n",
        "    frames = []\n",
        "    while not done:\n",
        "        frame = env.render()\n",
        "        frames.append(frame)\n",
        "        action = agent.act(state) # AI is in inference mode after training is done\n",
        "        state, reward, done, _, _ = env.step(action.item())\n",
        "\n",
        "    env.close()\n",
        "    imageio.mimsave('video.mp4', frames, fps=30)\n",
        "\n",
        "show_video_of_model(agent, 'MsPacmanDeterministic-v4')\n",
        "\n",
        "def show_video():\n",
        "    # Show video in notebook\n",
        "    mp4list = glob.glob('*.mp4')\n",
        "    if len(mp4list) > 0:\n",
        "        mp4 = mp4list[0]\n",
        "        video = io.open(mp4, 'r+b').read()\n",
        "        encoded = base64.b64encode(video)\n",
        "        display(HTML(data='''<video alt=\"test\" autoplay\n",
        "                loop controls style=\"height: 400px;\">\n",
        "                <source src=\"data:video/mp4;base64,{0}\" type=\"video/mp4\" />\n",
        "             </video>'''.format(encoded.decode('ascii'))))\n",
        "    else:\n",
        "        print(\"Could not find video\")\n",
        "\n",
        "show_video()"
      ]
    }
  ],
  "metadata": {
    "colab": {
      "provenance": [],
      "toc_visible": true
    },
    "kernelspec": {
      "display_name": "Python 3",
      "name": "python3"
    },
    "language_info": {
      "name": "python"
    }
  },
  "nbformat": 4,
  "nbformat_minor": 0
}
