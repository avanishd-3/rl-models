{
  "nbformat": 4,
  "nbformat_minor": 0,
  "metadata": {
    "colab": {
      "provenance": [],
      "toc_visible": true
    },
    "kernelspec": {
      "name": "python3",
      "display_name": "Python 3"
    },
    "language_info": {
      "name": "python"
    }
  },
  "cells": [
    {
      "cell_type": "markdown",
      "source": [
        "# Lunar Landing"
      ],
      "metadata": {
        "id": "Wpx0ZfkVA7_D"
      }
    },
    {
      "cell_type": "markdown",
      "source": [
        "Traning double dueling deep Q-learning AI to solve [lunar landing environment](https://gymnasium.farama.org/environments/box2d/lunar_lander/) from [Gymnasium](https://gymnasium.farama.org/)"
      ],
      "metadata": {
        "id": "JvwtJYbZB-sx"
      }
    },
    {
      "cell_type": "markdown",
      "source": [
        "## Intalling packages and importing libraries"
      ],
      "metadata": {
        "id": "Oit0CcXdBBdS"
      }
    },
    {
      "cell_type": "markdown",
      "source": [
        "### Installing NumPy and PyTorch"
      ],
      "metadata": {
        "id": "2tRU22eeByqt"
      }
    },
    {
      "cell_type": "code",
      "source": [
        "%pip install numpy\n",
        "%pip install torch\n",
        "%pip install torchvision"
      ],
      "metadata": {
        "id": "1IVlP4lYB7wv"
      },
      "execution_count": null,
      "outputs": []
    },
    {
      "cell_type": "markdown",
      "source": [
        "### Installing Gymnasium"
      ],
      "metadata": {
        "id": "K8bunpN1BGPW"
      }
    },
    {
      "cell_type": "code",
      "source": [
        "%pip install gymnasium\n",
        "%pip install swig # Necessary to build the wheel for box2d-py\n",
        "%pip install gymnasium[box2d] # Contains lunar lander environment"
      ],
      "metadata": {
        "colab": {
          "base_uri": "https://localhost:8080/"
        },
        "id": "fIk8QauYBIFx",
        "outputId": "b957d089-4396-4041-e7f2-04041b5e6118"
      },
      "execution_count": null,
      "outputs": [
        {
          "output_type": "stream",
          "name": "stdout",
          "text": [
            "Collecting gymnasium\n",
            "  Downloading gymnasium-1.0.0-py3-none-any.whl.metadata (9.5 kB)\n",
            "Requirement already satisfied: numpy>=1.21.0 in /usr/local/lib/python3.10/dist-packages (from gymnasium) (1.26.4)\n",
            "Requirement already satisfied: cloudpickle>=1.2.0 in /usr/local/lib/python3.10/dist-packages (from gymnasium) (3.1.0)\n",
            "Requirement already satisfied: typing-extensions>=4.3.0 in /usr/local/lib/python3.10/dist-packages (from gymnasium) (4.12.2)\n",
            "Collecting farama-notifications>=0.0.1 (from gymnasium)\n",
            "  Downloading Farama_Notifications-0.0.4-py3-none-any.whl.metadata (558 bytes)\n",
            "Downloading gymnasium-1.0.0-py3-none-any.whl (958 kB)\n",
            "\u001b[2K   \u001b[90m━━━━━━━━━━━━━━━━━━━━━━━━━━━━━━━━━━━━━━━━\u001b[0m \u001b[32m958.1/958.1 kB\u001b[0m \u001b[31m15.3 MB/s\u001b[0m eta \u001b[36m0:00:00\u001b[0m\n",
            "\u001b[?25hDownloading Farama_Notifications-0.0.4-py3-none-any.whl (2.5 kB)\n",
            "Installing collected packages: farama-notifications, gymnasium\n",
            "Successfully installed farama-notifications-0.0.4 gymnasium-1.0.0\n",
            "Collecting swig\n",
            "  Downloading swig-4.3.0-py2.py3-none-manylinux_2_5_x86_64.manylinux1_x86_64.whl.metadata (3.5 kB)\n",
            "Downloading swig-4.3.0-py2.py3-none-manylinux_2_5_x86_64.manylinux1_x86_64.whl (1.9 MB)\n",
            "\u001b[2K   \u001b[90m━━━━━━━━━━━━━━━━━━━━━━━━━━━━━━━━━━━━━━━━\u001b[0m \u001b[32m1.9/1.9 MB\u001b[0m \u001b[31m22.7 MB/s\u001b[0m eta \u001b[36m0:00:00\u001b[0m\n",
            "\u001b[?25hInstalling collected packages: swig\n",
            "Successfully installed swig-4.3.0\n",
            "Requirement already satisfied: gymnasium[box2d] in /usr/local/lib/python3.10/dist-packages (1.0.0)\n",
            "Requirement already satisfied: numpy>=1.21.0 in /usr/local/lib/python3.10/dist-packages (from gymnasium[box2d]) (1.26.4)\n",
            "Requirement already satisfied: cloudpickle>=1.2.0 in /usr/local/lib/python3.10/dist-packages (from gymnasium[box2d]) (3.1.0)\n",
            "Requirement already satisfied: typing-extensions>=4.3.0 in /usr/local/lib/python3.10/dist-packages (from gymnasium[box2d]) (4.12.2)\n",
            "Requirement already satisfied: farama-notifications>=0.0.1 in /usr/local/lib/python3.10/dist-packages (from gymnasium[box2d]) (0.0.4)\n",
            "Collecting box2d-py==2.3.5 (from gymnasium[box2d])\n",
            "  Downloading box2d-py-2.3.5.tar.gz (374 kB)\n",
            "\u001b[2K     \u001b[90m━━━━━━━━━━━━━━━━━━━━━━━━━━━━━━━━━━━━━━━━\u001b[0m \u001b[32m374.4/374.4 kB\u001b[0m \u001b[31m11.8 MB/s\u001b[0m eta \u001b[36m0:00:00\u001b[0m\n",
            "\u001b[?25h  Preparing metadata (setup.py) ... \u001b[?25l\u001b[?25hdone\n",
            "Requirement already satisfied: pygame>=2.1.3 in /usr/local/lib/python3.10/dist-packages (from gymnasium[box2d]) (2.6.1)\n",
            "Requirement already satisfied: swig==4.* in /usr/local/lib/python3.10/dist-packages (from gymnasium[box2d]) (4.3.0)\n",
            "Building wheels for collected packages: box2d-py\n",
            "  Building wheel for box2d-py (setup.py) ... \u001b[?25l\u001b[?25hdone\n",
            "  Created wheel for box2d-py: filename=box2d_py-2.3.5-cp310-cp310-linux_x86_64.whl size=2376473 sha256=3cc4b714b4ef7b4a6d93901709b82a2b7b717e525c6db7d07046c03f649ac785\n",
            "  Stored in directory: /root/.cache/pip/wheels/db/8f/6a/eaaadf056fba10a98d986f6dce954e6201ba3126926fc5ad9e\n",
            "Successfully built box2d-py\n",
            "Installing collected packages: box2d-py\n",
            "Successfully installed box2d-py-2.3.5\n"
          ]
        }
      ]
    },
    {
      "cell_type": "markdown",
      "source": [
        "### Importing Libraries"
      ],
      "metadata": {
        "id": "NvBDak4PBPVm"
      }
    },
    {
      "cell_type": "code",
      "source": [
        "import os\n",
        "import random\n",
        "import numpy as np\n",
        "from collections import deque, namedtuple\n",
        "\n",
        "# Pytorch stuff\n",
        "\n",
        "import torch\n",
        "import torch.nn as nn # Neural network library\n",
        "import torch.optim as optim # Optimizer to train AI\n",
        "import torch.nn.functional as F # Activation function\n",
        "import torch.autograd as autograd # Stochastic gradient descent for neural net trainig\n",
        "from torch.autograd import Variable\n"
      ],
      "metadata": {
        "id": "oL8gHM8LBS6p"
      },
      "execution_count": null,
      "outputs": []
    },
    {
      "cell_type": "markdown",
      "source": [
        "## Building AI"
      ],
      "metadata": {
        "id": "G0zU9DmTB7Bw"
      }
    },
    {
      "cell_type": "markdown",
      "source": [
        "### Neural Net Architecture"
      ],
      "metadata": {
        "id": "PvYHltR6EP9P"
      }
    },
    {
      "cell_type": "code",
      "source": [
        "class DuelingDQN(nn.Module):\n",
        "    \"\"\"\n",
        "    Dueling Deep Q-Network\n",
        "\n",
        "    Dueling separates the value of the state from the value of the actions possible in that state\n",
        "    \"\"\"\n",
        "    def __init__(self, state_size, action_size):\n",
        "        super(DuelingDQN, self).__init__()\n",
        "        self.state_size = state_size\n",
        "        self.action_size = action_size\n",
        "\n",
        "        # Shared fully connected layers\n",
        "        self.fc1 = nn.Linear(state_size, 128)\n",
        "        self.fc2 = nn.Linear(128, 128)\n",
        "\n",
        "        # Value stream\n",
        "        self.value_fc = nn.Linear(128, 64)\n",
        "        self.value_out = nn.Linear(64, 1)\n",
        "\n",
        "        # Advantage stream\n",
        "        self.advantage_fc = nn.Linear(128, 64)\n",
        "        self.advantage_out = nn.Linear(64, action_size)\n",
        "\n",
        "    def forward(self, state):\n",
        "        x = F.relu(self.fc1(state))\n",
        "        x = F.relu(self.fc2(x))\n",
        "\n",
        "        # State value stream\n",
        "        value = F.relu(self.value_fc(x))\n",
        "        value = self.value_out(value)\n",
        "\n",
        "        # Advantage stream\n",
        "        advantage = F.relu(self.advantage_fc(x))\n",
        "        advantage = self.advantage_out(advantage)\n",
        "\n",
        "        # Combine value and advantage\n",
        "        q_values = value + (advantage - advantage.mean(dim=1, keepdim=True))\n",
        "        return q_values"
      ],
      "metadata": {
        "id": "Om190UxbCVM2"
      },
      "execution_count": null,
      "outputs": []
    },
    {
      "cell_type": "markdown",
      "source": [
        "## Training AI"
      ],
      "metadata": {
        "id": "SO-0WutWHxSt"
      }
    },
    {
      "cell_type": "markdown",
      "source": [
        "### Set up Lunar Lander environment"
      ],
      "metadata": {
        "id": "AVppFmoNIApl"
      }
    },
    {
      "cell_type": "code",
      "source": [
        "import gymnasium as gym\n",
        "env = gym.make(\"LunarLander-v3\")\n",
        "\n",
        "lunar_state_size = env.observation_space.shape[0]\n",
        "lunar_action_size = env.action_space.n\n",
        "\n",
        "# Check that environment is set up correctly\n",
        "# Values are 8 and 4 as of lunar lander v3\n",
        "assert(lunar_state_size == 8)\n",
        "assert(lunar_action_size == 4)"
      ],
      "metadata": {
        "id": "tLOSV7OKH4RH"
      },
      "execution_count": null,
      "outputs": []
    },
    {
      "cell_type": "markdown",
      "source": [
        "### Initialize hyperparameters"
      ],
      "metadata": {
        "id": "FQdlsp4DJ_8Y"
      }
    },
    {
      "cell_type": "code",
      "source": [
        "learning_rate = 5e-4 # Optimized for lunar landing\n",
        "mini_batch_size = 100 # Standard for deep Q learning\n",
        "discount_factor = 0.99 # Optimal discount factor\n",
        "replay_buffer_size = int(1e5) # Number of experiences stored in memory (1 million is too slow on Colab but would provide better results per episode)\n",
        "tau = 1e-3 # Optimal value for tau"
      ],
      "metadata": {
        "id": "BlzrduKhJlr0"
      },
      "execution_count": null,
      "outputs": []
    },
    {
      "cell_type": "markdown",
      "source": [
        "### Experience Replay"
      ],
      "metadata": {
        "id": "-ayxD3EJLF8U"
      }
    },
    {
      "cell_type": "code",
      "source": [
        "class ReplayMemory(object):\n",
        "\n",
        "  def __init__(self, capacity) -> None:\n",
        "    # Capacity is capacity of memory\n",
        "    self.device = torch.device(\"cuda\" if torch.cuda.is_available() else \"cpu\") # GPU acceleration if possible\n",
        "    self.capacity = capacity\n",
        "    self.memory = deque(maxlen=capacity)\n",
        "\n",
        "  def push(self, event):\n",
        "    # Add experiences to replay memory buffer\n",
        "    self.memory.append(event)\n",
        "\n",
        "    # Make sure memory buffer capacity is not exceeded\n",
        "    if len(self.memory) > self.capacity:\n",
        "      del self.memory[0] # Delete oldest memory\n",
        "\n",
        "  def sample(self, batch_size):\n",
        "    \"\"\"\n",
        "    Randomly sample experiences from memory\n",
        "    \"\"\"\n",
        "\n",
        "    experiences = random.sample(self.memory, batch_size)\n",
        "\n",
        "    # Convert elements of experience to PyTorch tensors and move them to device\n",
        "\n",
        "    states = torch.from_numpy(np.vstack([e[0] for e in experiences if e is not None])).float().to(self.device)\n",
        "    actions = torch.from_numpy(np.vstack([e[1] for e in experiences if e is not None])).long().to(self.device) # Actions are either 0, 1, 2, 3\n",
        "    rewards = torch.from_numpy(np.vstack([e[2] for e in experiences if e is not None])).float().to(self.device)\n",
        "    next_states = torch.from_numpy(np.vstack([e[3] for e in experiences if e is not None])).float().to(self.device)\n",
        "\n",
        "    # Convert Boolean data to float tensor\n",
        "    dones = torch.from_numpy(np.vstack([e[4] for e in experiences if e is not None]).astype(np.uint8)).float().to(self.device) # Last elements in experiences\n",
        "\n",
        "\n",
        "    return (states, next_states, actions, rewards, dones)"
      ],
      "metadata": {
        "id": "D9q8yXHbLHe4"
      },
      "execution_count": null,
      "outputs": []
    },
    {
      "cell_type": "markdown",
      "source": [
        "### Double Deep Q Network"
      ],
      "metadata": {
        "id": "_c-mCCBKOCHu"
      }
    },
    {
      "cell_type": "code",
      "source": [
        "class Agent():\n",
        "  \"\"\"\n",
        "  Use double deep Q-learning with gradient clipping to reduce overestimation bias\n",
        "  \"\"\"\n",
        "\n",
        "  def __init__(self, state_size, action_size) -> None:\n",
        "    self.device = torch.device(\"cuda\" if torch.cuda.is_available() else \"cpu\") # GPU acceleration if possible\n",
        "\n",
        "    self.state_size = state_size\n",
        "    self.action_size = action_size\n",
        "\n",
        "    # Q learning\n",
        "    self.q_network = DuelingDQN(state_size, action_size).to(self.device) # Local Q network\n",
        "    self.target_network = DuelingDQN(state_size, action_size).to(self.device) # Target Q network\n",
        "\n",
        "    self.optimizer = optim.Adam(self.q_network.parameters(), lr=learning_rate) # Optimizer for Q network\n",
        "\n",
        "    self.memory = ReplayMemory(replay_buffer_size)\n",
        "\n",
        "    self.time_step = 0 # Time step for updating target network\n",
        "\n",
        "  def step(self, state, action, reward, next_state, done):\n",
        "    self.memory.push((state, action, reward, next_state, done)) # Add experience to replay memory\n",
        "\n",
        "    self.time_step = (self.time_step + 1) % 4 # Learn every 4 steps\n",
        "\n",
        "    # Learn every 4 steps\n",
        "    if self.time_step == 0 and len(self.memory.memory) > mini_batch_size:\n",
        "      experiences = self.memory.sample(mini_batch_size)\n",
        "      self.learn(experiences, discount_factor)\n",
        "\n",
        "  def act(self, state, epsilon=0):\n",
        "    \"\"\"\n",
        "    Select action based on given state in environment using epsilon-greedy action selection policy.\n",
        "\n",
        "    Epsilon-greedy is standard in Deep Q learning over softmax. It is also simpler and less computationally expensive.\n",
        "    \"\"\"\n",
        "\n",
        "    # Important to add dimension that includes which batch the state belongs to\n",
        "    # First dimension of new state tensor is batch number\n",
        "\n",
        "    state = torch.from_numpy(state).float().unsqueeze(0).to(self.device) # Convert state to tensor and add batch\n",
        "\n",
        "    self.q_network.eval()\n",
        "\n",
        "    with torch.no_grad(): # Disable gradient computation (make sure in inference mode)\n",
        "      action_values = self.q_network(state)\n",
        "    self.q_network.train()\n",
        "\n",
        "    # Use epsilon greedy action-selection policy\n",
        "\n",
        "    if random.random() > epsilon:\n",
        "      return np.argmax(action_values.cpu().data.numpy())\n",
        "    else:\n",
        "      return random.choice(np.arange(self.action_size))\n",
        "\n",
        "  def learn(self, experiences, gamma):\n",
        "    \"\"\"\n",
        "    Update Q-values based on sampled experiences\n",
        "    \"\"\"\n",
        "\n",
        "    states, next_states, actions, rewards, dones = experiences\n",
        "\n",
        "    # Get best actions from the local Q-network\n",
        "    next_actions = self.q_network(next_states).detach().argmax(1).unsqueeze(1)\n",
        "\n",
        "    # Get corresponding Q-values from the target Q-network\n",
        "    next_q_targets = self.target_network(next_states).gather(1, next_actions)\n",
        "\n",
        "    # Compute target Q-values\n",
        "    target_q_values = rewards + (gamma * next_q_targets * (1 - dones))\n",
        "\n",
        "    # Compute current Q-values\n",
        "    predicted_q_values = self.q_network(states).gather(1, actions)\n",
        "\n",
        "    # Compute loss\n",
        "    loss = F.mse_loss(predicted_q_values, target_q_values)\n",
        "\n",
        "    # Optimize the model\n",
        "    self.optimizer.zero_grad()\n",
        "    loss.backward()\n",
        "    nn.utils.clip_grad_norm_(self.q_network.parameters(), 1.0)  # Gradient clipping\n",
        "    self.optimizer.step()\n",
        "\n",
        "    # Soft update target network\n",
        "    self.soft_update(self.q_network, self.target_network, tau)\n",
        "\n",
        "  def soft_update(self, local_model, target_model, tau):\n",
        "    \"\"\"\n",
        "    Update target network parameters based on weighted average of local network and target network parameters\n",
        "\n",
        "    Soft update prevents abrupt changes in target network parameters that could destabilize the training\n",
        "    \"\"\"\n",
        "\n",
        "    for local_param, target_param in zip(local_model.parameters(), target_model.parameters()):\n",
        "      target_param.data.copy_(tau * local_param.data + (1.0-tau) * target_param.data) # Soft update formula"
      ],
      "metadata": {
        "id": "qm9KQXdEOFMt"
      },
      "execution_count": null,
      "outputs": []
    },
    {
      "cell_type": "markdown",
      "source": [
        "### Train an Agent"
      ],
      "metadata": {
        "id": "FbYepYcmY7OF"
      }
    },
    {
      "cell_type": "code",
      "source": [
        "# Initialze an agent\n",
        "agent = Agent(state_size=lunar_state_size, action_size=lunar_action_size)"
      ],
      "metadata": {
        "id": "zZJ7qOczY9AH"
      },
      "execution_count": null,
      "outputs": []
    },
    {
      "cell_type": "code",
      "source": [
        "# Initialize training hyperparameters\n",
        "\n",
        "num_episodes = 2000\n",
        "max_time_steps_per_episode = 1000\n",
        "\n",
        "# Epsilon greedy hyperparameters\n",
        "epsilon_start = 1.0\n",
        "epsilon_decay = 0.995 # Decay epsilon slowly\n",
        "epsilon_min = 0.01\n",
        "\n",
        "epsilon = epsilon_start\n",
        "\n",
        "# Window of scores on 100 episodes\n",
        "window_of_scores = deque(maxlen=100)"
      ],
      "metadata": {
        "id": "R8VL9xD6ZnPp"
      },
      "execution_count": null,
      "outputs": []
    },
    {
      "cell_type": "code",
      "source": [
        "# Final training loop\n",
        "\n",
        "for episode in range(1, num_episodes+1):\n",
        "  # Reset environment to initial state\n",
        "  state, _ = env.reset()\n",
        "  score = 0\n",
        "\n",
        "  # Agent learning\n",
        "\n",
        "  for t in range(max_time_steps_per_episode):\n",
        "    action = agent.act(state=state, epsilon=epsilon)\n",
        "\n",
        "    next_state, reward, done, _, _ = env.step(action)\n",
        "\n",
        "    agent.step(state, action, reward, next_state, done)\n",
        "\n",
        "    state = next_state\n",
        "    score += reward\n",
        "\n",
        "    if done:\n",
        "      break\n",
        "\n",
        "  window_of_scores.append(score)\n",
        "  epsilon = max(epsilon_min, epsilon_decay * epsilon) # Decay epsilon\n",
        "\n",
        "  # Print stuff to get feedback that agent is working\n",
        "  print(f\"\\rEpisode: {episode}\\tScore: {score}\\tAverage Score: {np.mean(window_of_scores)}\", end=\"\") # \\r allows newly printed line to over-ride previous one\n",
        "\n",
        "  if episode % 100 == 0:\n",
        "    print(\"\")\n",
        "\n",
        "  if np.mean(window_of_scores) >= 200: # Succesful episodes have scores 200 or above, so model is successful on average\n",
        "    print(f\"\\nEnvironment solved in {episode} episodes!\\t Average Score: {np.mean(window_of_scores)}\")\n",
        "\n",
        "    torch.save(agent.q_network.state_dict(), \"lunar_landing_model.pth\") # Save parameters to PyTorch file\n",
        "\n",
        "    break # No more training needed\n"
      ],
      "metadata": {
        "colab": {
          "base_uri": "https://localhost:8080/"
        },
        "id": "otF3obiYa-ha",
        "outputId": "ba6f7d41-c5af-4ac6-bbe8-50dc0a6f7d9c"
      },
      "execution_count": null,
      "outputs": [
        {
          "output_type": "stream",
          "name": "stdout",
          "text": [
            "Episode: 100\tScore: -105.86289102725695\tAverage Score: -151.02733116205889\n",
            "Episode: 200\tScore: -35.88799688855973\tAverage Score: -71.99925394950077\n",
            "Episode: 300\tScore: 161.87787827989644\tAverage Score: 2.4137186498955985\n",
            "Episode: 400\tScore: 135.31230063115302\tAverage Score: 128.4695714050388\n",
            "Episode: 500\tScore: 248.45017664815248\tAverage Score: 197.68747194505133\n",
            "Episode: 504\tScore: 211.38662387922128\tAverage Score: 201.0110837138492\n",
            "Environment solved in 504 episodes!\t Average Score: 201.0110837138492\n"
          ]
        }
      ]
    },
    {
      "cell_type": "markdown",
      "source": [
        "## Visualization"
      ],
      "metadata": {
        "id": "arP7nNDooonT"
      }
    },
    {
      "cell_type": "markdown",
      "source": [
        "### Imports"
      ],
      "metadata": {
        "id": "O2kgCLeIpZ3x"
      }
    },
    {
      "cell_type": "code",
      "source": [
        "import glob\n",
        "import io\n",
        "import base64\n",
        "import imageio\n",
        "from IPython.display import HTML, display\n",
        "from gym.wrappers import RecordVideo"
      ],
      "metadata": {
        "id": "xicp0-kWpbQJ"
      },
      "execution_count": null,
      "outputs": []
    },
    {
      "cell_type": "markdown",
      "source": [
        "### Video"
      ],
      "metadata": {
        "id": "X6KgeB-MLRnX"
      }
    },
    {
      "cell_type": "code",
      "source": [
        "\n",
        "def show_video_of_model(agent, env_name):\n",
        "    env = gym.make(env_name, render_mode='rgb_array')\n",
        "    state, _ = env.reset()\n",
        "    done = False\n",
        "    frames = []\n",
        "    while not done:\n",
        "        frame = env.render()\n",
        "        frames.append(frame)\n",
        "        action = agent.act(state) # AI is in inference mode after training is done\n",
        "        state, reward, done, _, _ = env.step(action.item())\n",
        "\n",
        "    env.close()\n",
        "    imageio.mimsave('video.mp4', frames, fps=30)\n",
        "\n",
        "show_video_of_model(agent, 'LunarLander-v3')\n",
        "\n",
        "def show_video():\n",
        "    # Show video in notebook\n",
        "    mp4list = glob.glob('*.mp4')\n",
        "    if len(mp4list) > 0:\n",
        "        mp4 = mp4list[0]\n",
        "        video = io.open(mp4, 'r+b').read()\n",
        "        encoded = base64.b64encode(video)\n",
        "        display(HTML(data='''<video alt=\"test\" autoplay\n",
        "                loop controls style=\"height: 400px;\">\n",
        "                <source src=\"data:video/mp4;base64,{0}\" type=\"video/mp4\" />\n",
        "             </video>'''.format(encoded.decode('ascii'))))\n",
        "    else:\n",
        "        print(\"Could not find video\")\n",
        "\n",
        "show_video()"
      ],
      "metadata": {
        "colab": {
          "base_uri": "https://localhost:8080/",
          "height": 460
        },
        "id": "aRBuWsBio9kA",
        "outputId": "28df1b6b-88cc-4ced-936a-e832198c57b0"
      },
      "execution_count": null,
      "outputs": [
        {
          "output_type": "stream",
          "name": "stderr",
          "text": [
            "WARNING:imageio_ffmpeg:IMAGEIO FFMPEG_WRITER WARNING: input image is not divisible by macro_block_size=16, resizing from (600, 400) to (608, 400) to ensure video compatibility with most codecs and players. To prevent resizing, make your input image divisible by the macro_block_size or set the macro_block_size to 1 (risking incompatibility).\n"
          ]
        },
        {
          "output_type": "display_data",
          "data": {
            "text/plain": [
              "<IPython.core.display.HTML object>"
            ],
            "text/html": [
              "<video alt=\"test\" autoplay\n",
              "                loop controls style=\"height: 400px;\">\n",
              "                <source src=\"data:video/mp4;base64,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\" type=\"video/mp4\" />\n",
              "             </video>"
            ]
          },
          "metadata": {}
        }
      ]
    }
  ]
}